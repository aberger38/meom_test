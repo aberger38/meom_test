{
 "cells": [
  {
   "cell_type": "code",
   "execution_count": 1,
   "metadata": {},
   "outputs": [],
   "source": [
    "%run '/mnt/berger2/equipes/IGE/meom/workdir/berger2/fonctions/meom_fonctions/fonctions.ipynb'\n",
    "\n",
    "import numpy as np\n",
    "import matplotlib.pyplot as plt\n",
    "import scipy.io.netcdf as netcdf\n",
    "import qgutils as qg\n",
    "from matplotlib import ticker, cm\n",
    "plt.ion()"
   ]
  },
  {
   "cell_type": "code",
   "execution_count": 2,
   "metadata": {},
   "outputs": [],
   "source": [
    "#paramètres gravés dans le marbre pour le stage\n",
    "\n",
    "Delta = 10000                               #grid spacing\n",
    "f0 = 9.37456E-05                           #paramètre de Coriolis\n",
    "dh = np.array([350,750,2900])              #hauteurs des couches océaniques\n",
    "dh_b = np.array([(dh[0]+dh[1])/2,(dh[0]+dh[1])/2])\n",
    "g_prime = np.array([2.5E-02,1.25E-02])     #gravités réduites aux interfaces\n",
    "Beta = 1.75360E-11\n",
    "delta_ek = 5                               #ocean bottom Ekman thickness \n",
    "nu4 = 2E09                                 #bi-harmonic viscosity\n",
    "Ht = np.sum(dh)\n",
    "Ht_b = np.sum(dh_b)\n",
    "toc = np.array([1.31693E+01,1.81693E+01,2.41693E+01])\n",
    "bf = delta_ek*f0/(2*dh[-1])\n",
    "\n",
    "#fréquences Brunt-vaisala\n",
    "\n",
    "N_12 = g_prime[0]/((dh[0]+dh[1])/2)\n",
    "N_23 = g_prime[1]/((dh[1]+dh[2])/2)\n",
    "N2 = np.array([N_12,N_23])"
   ]
  },
  {
   "cell_type": "code",
   "execution_count": 3,
   "metadata": {},
   "outputs": [],
   "source": [
    "dir0  = '/mnt/berger2/equipes/IGE/meom/workdir/berger2/qgcm-data/double_gyre_coupled/outdata_4_dt10/'\n",
    "dir1  = '/mnt/berger2/equipes/IGE/meom/workdir/berger2/qgcm-data/double_gyre_coupled/outdata_4_dt20/'\n",
    "\n",
    "file0 = 'ocpo.nc'\n",
    "file1 = 'ocsst.nc'"
   ]
  },
  {
   "cell_type": "code",
   "execution_count": 4,
   "metadata": {},
   "outputs": [],
   "source": [
    "#get fields psi\n",
    "pfile = dir0 + file0\n",
    "pfile1 = dir1 + file0\n",
    "\n",
    "#wind forcing\n",
    "forcing_z = dir0 + file1\n",
    "\n",
    "#buyoancy forcing\n",
    "forcing_b = dir0 + file1\n",
    "\n",
    "f1 = netcdf.netcdf_file(dir0 + file0,'r')\n",
    "f2 = netcdf.netcdf_file(dir0 + file1,'r')\n"
   ]
  },
  {
   "cell_type": "code",
   "execution_count": 5,
   "metadata": {},
   "outputs": [],
   "source": [
    "N2,f0 = qg.reshape3d(dh,N2,f0)\n",
    "\n",
    "si_t = f1.variables['time'][:].copy().size\n",
    "\n",
    "p = qg.read_qgcm(pfile, 0, var='p', rescale = 1/f0, interp = True, subtract_bc = False )\n",
    "nl,N,naux = p.shape\n",
    "\n",
    "test = si_t\n",
    "\n",
    "average = True"
   ]
  },
  {
   "cell_type": "code",
   "execution_count": 6,
   "metadata": {},
   "outputs": [
    {
     "name": "stdout",
     "output_type": "stream",
     "text": [
      "CPU times: user 17.3 s, sys: 1.58 s, total: 18.9 s\n",
      "Wall time: 6min 15s\n"
     ]
    }
   ],
   "source": [
    "%%time\n",
    "\n",
    "# compute all terms of dissipation\n",
    "\n",
    "p_me = np.zeros((nl,N,N))\n",
    "p_dt20_me = np.zeros((nl,N,N))\n",
    "\n",
    "n_me=1\n",
    "\n",
    "for it in range(int(test/2),test):\n",
    "    \n",
    "    p = qg.read_qgcm(pfile, it, var='p', rescale = 1/f0, interp = True, subtract_bc = True)\n",
    "    p_dt20 = qg.read_qgcm(pfile1, it, var='p', rescale = 1/f0, interp = True, subtract_bc = True)\n",
    "    \n",
    "    p_me += (p - p_me)/n_me\n",
    "    p_dt20_me += (p_dt20 - p_dt20_me)/n_me\n",
    "    \n",
    "    \n",
    "    n_me += 1\n",
    "    \n"
   ]
  },
  {
   "cell_type": "code",
   "execution_count": 7,
   "metadata": {},
   "outputs": [],
   "source": [
    "s_me = qg.p2stretch(p_me,dh, N2,f0)\n",
    "s_dt20_me = qg.p2stretch(p_dt20_me,dh, N2,f0)"
   ]
  },
  {
   "cell_type": "code",
   "execution_count": 8,
   "metadata": {},
   "outputs": [
    {
     "name": "stdout",
     "output_type": "stream",
     "text": [
      "CPU times: user 1min 15s, sys: 4.52 s, total: 1min 20s\n",
      "Wall time: 4min 25s\n"
     ]
    }
   ],
   "source": [
    "%%time\n",
    "\n",
    "jac_pe = np.zeros((nl,N,N))\n",
    "jac_pe_dt20 = np.zeros((nl,N,N))\n",
    "\n",
    "n_me=1\n",
    "\n",
    "for it in range(int(test/2),test):\n",
    "    \n",
    "    p = qg.read_qgcm(pfile, it, var='p', rescale = 1/f0, interp = True, subtract_bc = True)\n",
    "    p_dt20 = qg.read_qgcm(pfile1, it, var='p', rescale = 1/f0, interp = True, subtract_bc = True)\n",
    "    \n",
    "    s = qg.p2stretch(p,dh, N2,f0)\n",
    "    s_dt20 = qg.p2stretch(p_dt20,dh, N2,f0)\n",
    "    \n",
    "    p_p = p - p_me\n",
    "    s_p = s - s_me\n",
    "    p_dt20_p = p_dt20 - p_dt20_me\n",
    "    s_dt20_p = s_dt20 - s_dt20_me\n",
    "    \n",
    "    jps = qg.jacobian(p_p,s_p, Delta)\n",
    "    jps_dt20 = qg.jacobian(p_dt20_p,s_dt20_p, Delta)\n",
    "    \n",
    "    jac_pe += (jps - jac_pe)/n_me\n",
    "    jac_pe_dt20 += (jps_dt20 - jac_pe_dt20)/n_me"
   ]
  },
  {
   "cell_type": "code",
   "execution_count": 9,
   "metadata": {},
   "outputs": [],
   "source": [
    "def forward(x):\n",
    "    return 1/x\n",
    "\n",
    "def inverse(x):\n",
    "    return 1/x"
   ]
  },
  {
   "cell_type": "code",
   "execution_count": 12,
   "metadata": {},
   "outputs": [
    {
     "name": "stderr",
     "output_type": "stream",
     "text": [
      "<ipython-input-9-711fb66c38b2>:5: RuntimeWarning: divide by zero encountered in true_divide\n",
      "  return 1/x\n"
     ]
    },
    {
     "data": {
      "image/png": "[encoded data removed]",
      "text/plain": [
       "<Figure size 864x432 with 1 Axes>"
      ]
     },
     "metadata": {
      "needs_background": "light"
     },
     "output_type": "display_data"
    }
   ],
   "source": [
    "#mean PE to turbulent PE\n",
    "k_pe,fl_pe = qg.get_spec_flux(psi1=p_me , psi2 = jac_pe , Delta = Delta)\n",
    "\n",
    "fl_pe = integral_z(fl_pe, dh=dh, Delta=Delta, Ht = Ht)\n",
    "\n",
    "k_pe_dt20,fl_pe_dt20 = qg.get_spec_flux(psi1=p_dt20_me , psi2 = jac_pe_dt20 , Delta = Delta)\n",
    "\n",
    "fl_pe_dt20 = integral_z(fl_pe_dt20, dh=dh, Delta=Delta, Ht = Ht)\n",
    "\n",
    "\n",
    "\n",
    "fig, ax2 = plt.subplots(1, 1, figsize = (12,6),tight_layout=True)\n",
    "\n",
    "\n",
    "ax2.plot(k_pe*1e3, fl_pe, color = 'rebeccapurple')\n",
    "ax2.plot(k_pe_dt20*1e3, fl_pe_dt20, color = 'olive')\n",
    "#ax2.set_title('bottom drag')\n",
    "ax2.set_xlabel('k (cpkm)')\n",
    "ax2.set_ylabel(r'spectral flux $m².s^{-3}$')#($m².s^{-2}.(rad.km^{-1})^{-1}$)')\n",
    "ax2.set_xscale('log')\n",
    "#ax1.xaxis.set_major_locator(plt.MultipleLocator(0.001))\n",
    "#ax1.xaxis.set_minor_locator(plt.MultipleLocator(0.00025))\n",
    "secax2 = ax2.secondary_xaxis('top', functions = (forward, inverse))\n",
    "secax2.set_xlabel(r'$\\lambda$ (km per cycle)')\n",
    "ax2.grid(True, which = 'both')\n",
    "ax2.legend(['dT = 10',\n",
    "           'dT = 20'])\n",
    "\n",
    "#savefig\n",
    "plt.savefig('/mnt/berger2/equipes/IGE/meom/workdir/berger2/git/meom_test/Lorenz_cycle/cycle_termes_sep/figs_vrac/flux_rec_pe_dT10-20.png')\n"
   ]
  }
 ],
 "metadata": {
  "kernelspec": {
   "display_name": "Python 3",
   "language": "python",
   "name": "python3"
  },
  "language_info": {
   "codemirror_mode": {
    "name": "ipython",
    "version": 3
   },
   "file_extension": ".py",
   "mimetype": "text/x-python",
   "name": "python",
   "nbconvert_exporter": "python",
   "pygments_lexer": "ipython3",
   "version": "3.8.5"
  }
 },
 "nbformat": 4,
 "nbformat_minor": 4
}
