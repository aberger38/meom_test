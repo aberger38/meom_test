{
 "cells": [
  {
   "cell_type": "code",
   "execution_count": 1,
   "metadata": {},
   "outputs": [],
   "source": [
    "%run '/mnt/berger2/equipes/IGE/meom/workdir/berger2/fonctions/meom_fonctions/fonctions.ipynb'\n",
    "\n",
    "import numpy as np\n",
    "import matplotlib.pyplot as plt\n",
    "import scipy.io.netcdf as netcdf\n",
    "import qgutils as qg\n",
    "from matplotlib import ticker, cm\n",
    "plt.ion()"
   ]
  },
  {
   "cell_type": "code",
   "execution_count": 2,
   "metadata": {},
   "outputs": [],
   "source": [
    "#paramètres gravés dans le marbre pour le stage\n",
    "\n",
    "Delta = 10000                               #grid spacing\n",
    "f0 = 9.37456E-05                           #paramètre de Coriolis\n",
    "dh = np.array([350,750,2900])              #hauteurs des couches océaniques\n",
    "dh_b = np.array([(dh[0]+dh[1])/2,(dh[0]+dh[1])/2])\n",
    "g_prime = np.array([2.5E-02,1.25E-02])     #gravités réduites aux interfaces\n",
    "Beta = 1.75360E-11\n",
    "delta_ek = 5                               #ocean bottom Ekman thickness \n",
    "nu4 = 2E09                                 #bi-harmonic viscosity\n",
    "Ht = np.sum(dh)\n",
    "Ht_b = np.sum(dh_b)\n",
    "toc = np.array([1.31693E+01,1.81693E+01,2.41693E+01])\n",
    "bf = delta_ek*f0/(2*dh[-1])\n",
    "\n",
    "#fréquences Brunt-vaisala\n",
    "\n",
    "N_12 = g_prime[0]/((dh[0]+dh[1])/2)\n",
    "N_23 = g_prime[1]/((dh[1]+dh[2])/2)\n",
    "N2 = np.array([N_12,N_23])"
   ]
  },
  {
   "cell_type": "code",
   "execution_count": 3,
   "metadata": {},
   "outputs": [],
   "source": [
    "dir_abs  = '/mnt/berger2/equipes/IGE/meom/workdir/berger2/qgcm-data/double_gyre_coupled/outdata_7_dt10/'\n",
    "dir_rel  = '/mnt/berger2/equipes/IGE/meom/workdir/berger2/qgcm-data/double_gyre_coupled/outdata_6tdiff_dt10/'\n",
    "\n",
    "file0 = 'ocpo.nc'\n",
    "file1 = 'ocsst.nc'"
   ]
  },
  {
   "cell_type": "code",
   "execution_count": 4,
   "metadata": {},
   "outputs": [],
   "source": [
    "#get fields psi\n",
    "pfile_abs = dir_abs + file0\n",
    "pfile_rel = dir_rel + file0\n",
    "\n",
    "toc_file_abs = dir_abs + file1\n",
    "toc_file_rel = dir_rel + file1\n",
    "\n",
    "\n",
    "f_abs = netcdf.netcdf_file(dir_abs + file0,'r')\n",
    "f_rel = netcdf.netcdf_file(dir_rel + file0,'r')"
   ]
  },
  {
   "cell_type": "code",
   "execution_count": 5,
   "metadata": {},
   "outputs": [],
   "source": [
    "si_t = f_abs.variables['time'][:].copy().size\n",
    "\n",
    "p = qg.read_qgcm(pfile_abs, 0, var='p', rescale = 1/f0, interp = True, subtract_bc = False )\n",
    "nz,ny,nx = p.shape\n",
    "\n",
    "test = si_t\n",
    "\n",
    "average = True"
   ]
  },
  {
   "cell_type": "code",
   "execution_count": 6,
   "metadata": {},
   "outputs": [],
   "source": [
    "# flot moyen abs\n",
    "flot_me = np.load('/mnt/berger2/equipes/IGE/meom/workdir/berger2/git/meom_test/meom_test/Lorenz_cycle/tableaux_termes_abs/termes_flot_moyen_abs.npz')\n",
    "u_me_abs = flot_me['u_me']\n",
    "v_me_abs = flot_me['v_me']\n",
    "\n",
    "flot_me_bis = np.load('/mnt/berger2/equipes/IGE/meom/workdir/berger2/git/meom_test/meom_test/Lorenz_cycle/tableaux_termes_abs/etapes_flot_moyen_abs.npz')\n",
    "         \n",
    "p_me_abs = flot_me_bis['p_me']\n",
    "b_me_abs = flot_me_bis['b_me']\n",
    "w_me_abs = flot_me_bis['w_me']\n"
   ]
  },
  {
   "cell_type": "code",
   "execution_count": 7,
   "metadata": {},
   "outputs": [],
   "source": [
    "k,fl = qg.get_spec_flux(psi1 = p_me_abs, psi2 = p_me_abs, Delta=Delta)\n",
    "fl_z = integral_z(psi = fl, dh=dh, Delta=Delta, Ht=Ht_b)\n",
    "n_k = fl_z.shape"
   ]
  },
  {
   "cell_type": "code",
   "execution_count": 8,
   "metadata": {},
   "outputs": [],
   "source": [
    "#uninterp b_me with diff\n",
    "dbdx_me_abs = np.diff(b_me_abs,1,2)/Delta\n",
    "dbdy_me_abs = np.diff(b_me_abs,1,1)/Delta\n",
    "\n",
    "\n",
    "#compute the expression sparately with padding to obtain (513,512)ish arrays\n",
    "dbdx_pad_abs = np.pad(dbdx_me_abs,((0,0),(0,0),(1,1)))\n",
    "dbdy_pad_abs = np.pad(dbdy_me_abs,((0,0),(1,1),(0,0)))\n",
    "\n",
    "#uninterp u_me and v_me with diff\n",
    "dudx_me_abs = np.diff(u_me_abs,1,2)/Delta\n",
    "dudy_me_abs = np.diff(u_me_abs,1,1)/Delta\n",
    "dvdx_me_abs = np.diff(v_me_abs,1,2)/Delta\n",
    "dvdy_me_abs = np.diff(v_me_abs,1,1)/Delta\n",
    "#compute the expression sparately with padding to obtain (513,512)ish arrays\n",
    "dudx_pad_abs = np.pad(dudx_me_abs,((0,0),(0,0),(1,1)))\n",
    "dudy_pad_abs = np.pad(dudy_me_abs,((0,0),(1,1),(0,0)))\n",
    "dvdx_pad_abs = np.pad(dvdx_me_abs,((0,0),(0,0),(1,1)))\n",
    "dvdy_pad_abs = np.pad(dvdy_me_abs,((0,0),(1,1),(0,0)))"
   ]
  },
  {
   "cell_type": "code",
   "execution_count": 9,
   "metadata": {},
   "outputs": [],
   "source": [
    "u_me_abs_i = integral_z(u_me_abs, dh, Delta, Ht)\n",
    "v_me_abs_i = integral_z(v_me_abs, dh, Delta, Ht)"
   ]
  },
  {
   "cell_type": "code",
   "execution_count": null,
   "metadata": {},
   "outputs": [],
   "source": [
    "fl_eke_me = np.zeros((n_k))\n",
    "fl_mke_me = np.zeros((n_k))\n",
    "\n",
    "n_me=1\n",
    "\n",
    "for it in range(0,test):\n",
    "    \n",
    "    p_abs = qg.read_qgcm(pfile_abs, it, var='p', rescale = 1/f0, interp = True, subtract_bc = True)\n",
    "   \n",
    "    u_abs,v_abs = qg.comp_vel(p_abs, Delta=Delta, loc='center')\n",
    "    \n",
    "    b_abs = qg.p2b(p_abs, dh, f0)\n",
    "  \n",
    "    u_p_abs = u_abs - u_me_abs\n",
    "    v_p_abs = v_abs - v_me_abs\n",
    "    b_p_abs = b_abs - b_me_abs\n",
    "    p_p_abs = p_abs - p_me_abs\n",
    "    \n",
    "    u_p_abs_use = reduce_z_dim(u_p_abs, dh)\n",
    "    v_p_abs_use = reduce_z_dim(v_p_abs, dh)\n",
    "    \n",
    "    du2_dx_abs = np.diff(u_p_abs**2, 1,2)/Delta\n",
    "    duv_dy_abs = np.diff(u_p_abs*v_p_abs,1,1)/Delta\n",
    "    duv_dx_abs = np.diff(u_p_abs*v_p_abs,1,2)/Delta\n",
    "    dv2_dy_abs = np.diff(v_p_abs**2, 1,1)/Delta\n",
    "    \n",
    "    du2_dx_pad_abs = np.pad(du2_dx_abs,((0,0),(0,0),(1,1)))\n",
    "    duv_dy_pad_abs = np.pad(duv_dy_abs,((0,0),(1,1),(0,0)))\n",
    "    duv_dx_pad_abs = np.pad(duv_dx_abs,((0,0),(0,0),(1,1)))\n",
    "    dv2_dy_pad_abs = np.pad(dv2_dy_abs,((0,0),(1,1),(0,0)))\n",
    "\n",
    "    eke2mke_abs = 0.5*((du2_dx_pad_abs[:,:,1:]+du2_dx_pad_abs[:,:,:-1])*u_me_abs \n",
    "              +(duv_dy_pad_abs[:,1:,:]+duv_dy_pad_abs[:,:-1,:])*u_me_abs\n",
    "              +(duv_dx_pad_abs[:,:,1:]+duv_dx_pad_abs[:,:,:-1])*v_me_abs\n",
    "              +(dv2_dy_pad_abs[:,1:,:]+dv2_dy_pad_abs[:,:-1,:])*v_me_abs)\n",
    "\n",
    "\n",
    "    mke2eke_abs = 0.5*((dudx_pad_abs[:,:,1:]+dudx_pad_abs[:,:,:-1])*u_p_abs**2 \n",
    "          +(dudy_pad_abs[:,1:,:]+dudy_pad_abs[:,:-1,:])*u_p_abs*v_p_abs\n",
    "          +(dvdx_pad_abs[:,:,1:]+dvdx_pad_abs[:,:,:-1])*u_p_abs*v_p_abs\n",
    "          +(dvdy_pad_abs[:,1:,:]+dvdy_pad_abs[:,:-1,:])*v_p_abs**2)\n",
    "                       \n",
    "    eke_1 = 0.5*(du2_dx_pad_abs[:,:,1:]+du2_dx_pad_abs[:,:,:-1])\n",
    "    eke_2 = 0.5*(duv_dy_pad_abs[:,1:,:]+duv_dy_pad_abs[:,:-1,:])\n",
    "    eke_3 = 0.5*(duv_dx_pad_abs[:,:,1:]+duv_dx_pad_abs[:,:,:-1])\n",
    "    eke_4 = 0.5*(dv2_dy_pad_abs[:,1:,:]+dv2_dy_pad_abs[:,:-1,:])\n",
    "                       \n",
    "    k_eke_1, fl_eke_1 = qg.get_spec_flux(psi1 = u_me_abs, psi2 = eke_1, Delta=Delta )\n",
    "    k_eke_2, fl_eke_2 = qg.get_spec_flux(psi1 = u_me_abs, psi2 = eke_2, Delta=Delta )\n",
    "    k_eke_3, fl_eke_3 = qg.get_spec_flux(psi1 = v_me_abs, psi2 = eke_3, Delta=Delta )\n",
    "    k_eke_4, fl_eke_4 = qg.get_spec_flux(psi1 = v_me_abs, psi2 = eke_4, Delta=Delta )\n",
    "                       \n",
    "    mke_1 = integral_z(0.5*(dudx_pad_abs[:,:,1:]+dudx_pad_abs[:,:,:-1]),dh, Delta, Ht)\n",
    "    mke_2 = integral_z(0.5*(dudy_pad_abs[:,1:,:]+dudy_pad_abs[:,:-1,:]),dh, Delta, Ht)\n",
    "    mke_3 = integral_z(0.5*(dvdx_pad_abs[:,:,1:]+dvdx_pad_abs[:,:,:-1]),dh, Delta, Ht)\n",
    "    mke_4 = integral_z(0.5*(dvdy_pad_abs[:,1:,:]+dvdy_pad_abs[:,:-1,:]),dh, Delta, Ht)\n",
    "                       \n",
    "    mke_u2_p = u_p_abs**2\n",
    "    mke_uv_p = u_p_abs*v_p_abs\n",
    "    mke_v2_p = v_p_abs**2\n",
    "                       \n",
    "    k_mke_1, fl_mke_1 = qg.get_spec_flux(psi1 = mke_1, psi2 = mke_u2_p, Delta=Delta )\n",
    "    k_mke_2, fl_mke_2 = qg.get_spec_flux(psi1 = mke_2, psi2 = mke_uv_p, Delta=Delta )\n",
    "    k_mke_3, fl_mke_3 = qg.get_spec_flux(psi1 = mke_3, psi2 = mke_uv_p, Delta=Delta )\n",
    "    k_mke_4, fl_mke_4 = qg.get_spec_flux(psi1 = mke_4, psi2 = mke_v2_p, Delta=Delta )\n",
    "    \n",
    "    fl_eke = integral_z(fl_eke_1+fl_eke_2+fl_eke_3+fl_eke_4, dh, Delta, Ht)\n",
    "    fl_mke = integral_z(fl_mke_1+fl_mke_2+fl_mke_3+fl_mke_4, dh, Delta, Ht)\n",
    "                       \n",
    "    fl_eke_me += (fl_eke - fl_eke_me)/n_me\n",
    "    fl_mke_me += (fl_mke - fl_mke_me)/n_me\n",
    "                       \n",
    "    n_me+=1"
   ]
  },
  {
   "cell_type": "code",
   "execution_count": null,
   "metadata": {},
   "outputs": [],
   "source": [
    "def forward(x):\n",
    "    return 1/x\n",
    "\n",
    "def inverse(x):\n",
    "    return 1/x"
   ]
  },
  {
   "cell_type": "code",
   "execution_count": null,
   "metadata": {},
   "outputs": [],
   "source": [
    "fig, ax2 = plt.subplots(1, 1, figsize = (12,6),tight_layout=True)\n",
    "\n",
    "\n",
    "ax2.plot(k_eke_1*1e3, fl_eke_me, color = 'rebeccapurple')\n",
    "ax2.plot(k_mke_1*1e3, fl_mke_me, color = 'olive')\n",
    "#ax2.set_title('bottom drag')\n",
    "ax2.set_xlabel('k (cpkm)')\n",
    "ax2.set_ylabel(r'spectral flux $m².s^{-3}$')\n",
    "ax2.set_xscale('log')\n",
    "secax2 = ax2.secondary_xaxis('top', functions = (forward, inverse))\n",
    "secax2.set_xlabel(r'$\\lambda$ (km per cycle)')\n",
    "ax2.grid(True, which = 'both')"
   ]
  }
 ],
 "metadata": {
  "kernelspec": {
   "display_name": "Python 3",
   "language": "python",
   "name": "python3"
  },
  "language_info": {
   "codemirror_mode": {
    "name": "ipython",
    "version": 3
   },
   "file_extension": ".py",
   "mimetype": "text/x-python",
   "name": "python",
   "nbconvert_exporter": "python",
   "pygments_lexer": "ipython3",
   "version": "3.8.5"
  }
 },
 "nbformat": 4,
 "nbformat_minor": 4
}
