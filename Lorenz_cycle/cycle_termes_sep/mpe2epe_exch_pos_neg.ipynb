{
 "cells": [
  {
   "cell_type": "code",
   "execution_count": 1,
   "metadata": {},
   "outputs": [],
   "source": [
    "%run '/mnt/berger2/equipes/IGE/meom/workdir/berger2/fonctions/meom_fonctions/fonctions.ipynb'\n",
    "\n",
    "import numpy as np\n",
    "import matplotlib.pyplot as plt\n",
    "import scipy.io.netcdf as netcdf\n",
    "import qgutils as qg\n",
    "from matplotlib import ticker, cm\n",
    "plt.ion()"
   ]
  },
  {
   "cell_type": "code",
   "execution_count": 2,
   "metadata": {},
   "outputs": [],
   "source": [
    "#paramètres gravés dans le marbre pour le stage\n",
    "\n",
    "Delta = 10000                               #grid spacing\n",
    "f0 = 9.37456E-05                           #paramètre de Coriolis\n",
    "dh = np.array([350,750,2900])              #hauteurs des couches océaniques\n",
    "dh_b = np.array([(dh[0]+dh[1])/2,(dh[0]+dh[1])/2])\n",
    "g_prime = np.array([2.5E-02,1.25E-02])     #gravités réduites aux interfaces\n",
    "Beta = 1.75360E-11\n",
    "delta_ek = 5                               #ocean bottom Ekman thickness \n",
    "nu4 = 2E09                                 #bi-harmonic viscosity\n",
    "Ht = np.sum(dh)\n",
    "Ht_b = np.sum(dh_b)\n",
    "toc = np.array([1.31693E+01,1.81693E+01,2.41693E+01])\n",
    "bf = delta_ek*f0/(2*dh[-1])\n",
    "\n",
    "#fréquences Brunt-vaisala\n",
    "\n",
    "N_12 = g_prime[0]/((dh[0]+dh[1])/2)\n",
    "N_23 = g_prime[1]/((dh[1]+dh[2])/2)\n",
    "N2 = np.array([N_12,N_23])"
   ]
  },
  {
   "cell_type": "code",
   "execution_count": 3,
   "metadata": {},
   "outputs": [],
   "source": [
    "dir_abs  = '/mnt/berger2/equipes/IGE/meom/workdir/berger2/qgcm-data/double_gyre_coupled/outdata_7_dt10/'\n",
    "dir_rel  = '/mnt/berger2/equipes/IGE/meom/workdir/berger2/qgcm-data/double_gyre_coupled/outdata_6tdiff_dt10/'\n",
    "\n",
    "file0 = 'ocpo.nc'\n",
    "file1 = 'ocsst.nc'"
   ]
  },
  {
   "cell_type": "code",
   "execution_count": 4,
   "metadata": {},
   "outputs": [],
   "source": [
    "#get fields psi\n",
    "pfile_abs = dir_abs + file0\n",
    "pfile_rel = dir_rel + file0\n",
    "\n",
    "toc_file_abs = dir_abs + file1\n",
    "toc_file_rel = dir_rel + file1\n",
    "\n",
    "\n",
    "f_abs = netcdf.netcdf_file(dir_abs + file0,'r')\n",
    "f_rel = netcdf.netcdf_file(dir_rel + file0,'r')"
   ]
  },
  {
   "cell_type": "code",
   "execution_count": 5,
   "metadata": {},
   "outputs": [],
   "source": [
    "N2,f0 = qg.reshape3d(dh,N2,f0)\n",
    "\n",
    "si_t = f_abs.variables['time'][:].copy().size\n",
    "\n",
    "p = qg.read_qgcm(pfile_abs, 0, var='p', rescale = 1/f0, interp = True, subtract_bc = False )\n",
    "nz,ny,nx = p.shape\n",
    "\n",
    "test = si_t\n",
    "\n",
    "average = True"
   ]
  },
  {
   "cell_type": "code",
   "execution_count": 6,
   "metadata": {},
   "outputs": [],
   "source": [
    "# flot moyen abs\n",
    "flot_me = np.load('/mnt/berger2/equipes/IGE/meom/workdir/berger2/git/meom_test/meom_test/Lorenz_cycle/tableaux_termes_abs/termes_flot_moyen_abs.npz')\n",
    "u_me_abs = flot_me['u_me']\n",
    "v_me_abs = flot_me['v_me']\n",
    "\n",
    "flot_me_bis = np.load('/mnt/berger2/equipes/IGE/meom/workdir/berger2/git/meom_test/meom_test/Lorenz_cycle/tableaux_termes_abs/etapes_flot_moyen_abs.npz')\n",
    "\n",
    "b_me_abs = flot_me_bis['b_me']\n",
    "\n",
    "#perturbations abs\n",
    "\n",
    "flot_pert = np.load('/mnt/berger2/equipes/IGE/meom/workdir/berger2/git/meom_test//meom_test/Lorenz_cycle/cycle_termes_sep/tableaux_termes_exch/termes_abs.npz')\n",
    "\n",
    "u_b_me_abs = flot_pert['u_b_me_abs']\n",
    "v_b_me_abs = flot_pert['v_b_me_abs']"
   ]
  },
  {
   "cell_type": "code",
   "execution_count": 7,
   "metadata": {},
   "outputs": [],
   "source": [
    "#flot moyen rel\n",
    "flot_me = np.load('/mnt/berger2/equipes/IGE/meom/workdir/berger2/git/meom_test/meom_test/Lorenz_cycle/tableaux_termes_rel/termes_flot_moyen_rel.npz')\n",
    "u_me_rel = flot_me['u_me']\n",
    "v_me_rel = flot_me['v_me']\n",
    "\n",
    "flot_me_bis = np.load('/mnt/berger2/equipes/IGE/meom/workdir/berger2/git/meom_test/meom_test/Lorenz_cycle/tableaux_termes_rel/etapes_flot_moyen_rel.npz')\n",
    "\n",
    "b_me_rel = flot_me_bis['b_me']\n",
    "\n",
    "flot_pert = np.load('/mnt/berger2/equipes/IGE/meom/workdir/berger2/git/meom_test//meom_test/Lorenz_cycle/cycle_termes_sep/tableaux_termes_exch/termes_rel.npz')\n",
    "\n",
    "u_b_me_rel = flot_pert['u_b_me_rel']\n",
    "v_b_me_rel = flot_pert['v_b_me_rel']"
   ]
  },
  {
   "cell_type": "code",
   "execution_count": 8,
   "metadata": {},
   "outputs": [],
   "source": [
    "mpe2epe_abs = -b_me_abs*(div_x(u_b_me_abs, Delta)-div_y(v_b_me_abs,Delta))\n",
    "mpe2epe_rel = -b_me_rel*(div_x(u_b_me_rel, Delta)-div_y(v_b_me_rel,Delta))\n",
    "\n",
    "epe2mpe_rel = u_b_me_rel*div_x(b_me_rel,Delta) + v_b_me_rel*div_y(b_me_rel,Delta)\n",
    "epe2mpe_abs = u_b_me_abs*div_x(b_me_abs,Delta) + v_b_me_abs*div_y(b_me_abs,Delta)\n",
    "\n",
    "mpe2epe_abs_i = -integral_z(mpe2epe_abs, dh, Delta, Ht)\n",
    "mpe2epe_rel_i = -integral_z(mpe2epe_rel, dh, Delta, Ht)\n",
    "\n",
    "epe2mpe_abs_i = integral_z(epe2mpe_abs, dh, Delta, Ht)\n",
    "epe2mpe_rel_i = integral_z(epe2mpe_rel, dh, Delta, Ht)"
   ]
  },
  {
   "cell_type": "code",
   "execution_count": 38,
   "metadata": {},
   "outputs": [],
   "source": [
    "mpe2epe_abs_i_pos = np.where(mpe2epe_abs_i>0,1,0)\n",
    "mpe2epe_abs_i_neg = 1-mpe2epe_abs_i_pos\n",
    "\n",
    "mpe2epe_rel_i_pos = np.where(mpe2epe_rel_i>0,1,0)\n",
    "mpe2epe_rel_i_neg = 1-mpe2epe_rel_i_pos\n",
    "\n",
    "\n",
    "epe2mpe_abs_i_pos = np.where(epe2mpe_abs_i>0,1,0)\n",
    "epe2mpe_abs_i_neg = 1-epe2mpe_abs_i_pos\n",
    "\n",
    "epe2mpe_rel_i_pos = np.where(epe2mpe_rel_i>0,1,0)\n",
    "epe2mpe_rel_i_neg = 1-epe2mpe_rel_i_pos\n",
    "\n",
    "\n",
    "mpe2epe_abs_i_pos_i = np.sum(mpe2epe_abs_i_pos*mpe2epe_abs_i)\n",
    "mpe2epe_abs_i_neg_i = -np.sum(mpe2epe_abs_i_neg*mpe2epe_abs_i)\n",
    "\n",
    "mpe2epe_rel_i_pos_i = np.sum(mpe2epe_rel_i_pos*mpe2epe_rel_i)\n",
    "mpe2epe_rel_i_neg_i = -np.sum(mpe2epe_rel_i_neg*mpe2epe_rel_i)\n",
    "\n",
    "\n",
    "epe2mpe_abs_i_pos_i = np.sum(epe2mpe_abs_i_pos*epe2mpe_abs_i)\n",
    "epe2mpe_abs_i_neg_i = -np.sum(epe2mpe_abs_i_neg*epe2mpe_abs_i)\n",
    "\n",
    "epe2mpe_rel_i_pos_i = np.sum(epe2mpe_rel_i_pos*epe2mpe_rel_i)\n",
    "epe2mpe_rel_i_neg_i = -np.sum(epe2mpe_rel_i_neg*epe2mpe_rel_i)\n"
   ]
  },
  {
   "cell_type": "code",
   "execution_count": 39,
   "metadata": {},
   "outputs": [
    {
     "name": "stdout",
     "output_type": "stream",
     "text": [
      "MPE perspective, run abs perte: 1.2545194404395831e-08\n",
      "MPE perspective, run abs gain : 9.461105293226943e-09\n",
      "net: 3.0840891111688887e-09\n",
      "\n",
      "MPE perspective, run rel perte: 1.040969012505105e-08\n",
      "MPE perspective, run rel gain : 6.852989643318608e-09\n",
      "net: 3.556700481732442e-09\n",
      "\n",
      "EPE perspective, run abs perte: 1.1937664158125748e-08\n",
      "EPE perspective, run abs gain : 1.3382596421863327e-08\n",
      "net: -1.4449322637375788e-09\n",
      "\n",
      "EPE perspective, run rel perte: 9.52962606611084e-09\n",
      "EPE perspective, run rel gain : 9.385240235680022e-09\n",
      "net: 1.443858304308184e-10\n"
     ]
    }
   ],
   "source": [
    "print('MPE perspective, run abs perte:',mpe2epe_abs_i_neg_i)\n",
    "print('MPE perspective, run abs gain :',mpe2epe_abs_i_pos_i)\n",
    "print('net:',mpe2epe_abs_i_neg_i - mpe2epe_abs_i_pos_i)\n",
    "print('')\n",
    "\n",
    "print('MPE perspective, run rel perte:',mpe2epe_rel_i_neg_i)\n",
    "print('MPE perspective, run rel gain :',mpe2epe_rel_i_pos_i)\n",
    "print('net:',mpe2epe_rel_i_neg_i - mpe2epe_rel_i_pos_i)\n",
    "print('')\n",
    "\n",
    "print('EPE perspective, run abs perte:',epe2mpe_abs_i_neg_i)\n",
    "print('EPE perspective, run abs gain :',epe2mpe_abs_i_pos_i)\n",
    "print('net:',epe2mpe_abs_i_neg_i - epe2mpe_abs_i_pos_i)\n",
    "print('')\n",
    "\n",
    "print('EPE perspective, run rel perte:',epe2mpe_rel_i_neg_i)\n",
    "print('EPE perspective, run rel gain :',epe2mpe_rel_i_pos_i)\n",
    "print('net:',epe2mpe_rel_i_neg_i - epe2mpe_rel_i_pos_i)"
   ]
  },
  {
   "cell_type": "code",
   "execution_count": 32,
   "metadata": {},
   "outputs": [
    {
     "name": "stdout",
     "output_type": "stream",
     "text": [
      "23021384091.29513\n",
      "23898554414.84832\n",
      "-49137251469.73025\n",
      "588700426810.422\n"
     ]
    }
   ],
   "source": [
    "print(a)\n",
    "print(b)\n",
    "print(c)\n",
    "print(d)"
   ]
  }
 ],
 "metadata": {
  "kernelspec": {
   "display_name": "Python 3",
   "language": "python",
   "name": "python3"
  },
  "language_info": {
   "codemirror_mode": {
    "name": "ipython",
    "version": 3
   },
   "file_extension": ".py",
   "mimetype": "text/x-python",
   "name": "python",
   "nbconvert_exporter": "python",
   "pygments_lexer": "ipython3",
   "version": "3.8.5"
  }
 },
 "nbformat": 4,
 "nbformat_minor": 4
}
