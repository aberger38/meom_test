{
 "cells": [
  {
   "cell_type": "code",
   "execution_count": 2,
   "metadata": {},
   "outputs": [],
   "source": [
    "%run '/mnt/berger2/equipes/IGE/meom/workdir/berger2/fonctions/meom_fonctions/fonctions.ipynb'\n",
    "\n",
    "import numpy as np\n",
    "import matplotlib.pyplot as plt\n",
    "import scipy.io.netcdf as netcdf\n",
    "import qgutils as qg\n",
    "from matplotlib import ticker, cm\n",
    "plt.ion()"
   ]
  },
  {
   "cell_type": "code",
   "execution_count": 40,
   "metadata": {},
   "outputs": [],
   "source": [
    "#paramètres gravés dans le marbre pour le stage\n",
    "\n",
    "Delta = 10000                               #grid spacing\n",
    "f0 = 9.37456E-05                           #paramètre de Coriolis\n",
    "dh = np.array([350,750,2900])              #hauteurs des couches océaniques\n",
    "dh_b = np.array([(dh[0]+dh[1])/2,(dh[1]+dh[2])/2])\n",
    "g_prime = np.array([2.5E-02,1.25E-02])     #gravités réduites aux interfaces\n",
    "Beta = 1.75360E-11\n",
    "delta_ek = 5                               #ocean bottom Ekman thickness \n",
    "nu4 = 2E09                                 #bi-harmonic viscosity\n",
    "Ht = np.sum(dh)\n",
    "Ht_b = np.sum(dh_b)\n",
    "toc = np.array([1.31693E+01,1.81693E+01,2.41693E+01])\n",
    "bf = delta_ek*f0/(2*dh[-1])\n",
    "\n",
    "#fréquences Brunt-vaisala\n",
    "\n",
    "N_12 = g_prime[0]/((dh[0]+dh[1])/2)\n",
    "N_23 = g_prime[1]/((dh[1]+dh[2])/2)\n",
    "N2 = np.array([N_12,N_23])\n",
    "\n",
    "#densité\n",
    "\n",
    "rho1= 1000\n",
    "rho2= 1000*(1-g_prime[0]/9.81)\n",
    "rho3= rho2 - 1000*g_prime[1]/9.81\n",
    "\n",
    "rho = np.array([rho1,rho2,rho3])"
   ]
  },
  {
   "cell_type": "code",
   "execution_count": 4,
   "metadata": {},
   "outputs": [],
   "source": [
    "dir0  = '/mnt/berger2/equipes/IGE/meom/workdir/berger2/qgcm-data/double_gyre_coupled/outdata_6/'\n",
    "dir1 = '/mnt/berger2/equipes/IGE/meom/workdir/berger2/qgcm-data/double_gyre_coupled/outdata_9tdiff/'\n",
    "file0 = 'ocpo.nc'\n",
    "file1 = 'ocsst.nc'\n",
    "file_at = 'atpa.nc'"
   ]
  },
  {
   "cell_type": "code",
   "execution_count": 5,
   "metadata": {},
   "outputs": [],
   "source": [
    "#get fields psi\n",
    "pfile = dir0 + file0\n",
    "\n",
    "at_file = dir1 + file_at\n",
    "#wind forcing\n",
    "forcing_z = dir0 + file1\n",
    "\n",
    "#buyoancy forcing\n",
    "forcing_b = dir0 + file1\n",
    "forcing_b_rel = dir1 + file1\n",
    "\n",
    "f1 = netcdf.netcdf_file(dir0 + file0,'r')\n",
    "f2 = netcdf.netcdf_file(dir0 + file1,'r')\n"
   ]
  },
  {
   "cell_type": "code",
   "execution_count": 6,
   "metadata": {},
   "outputs": [],
   "source": [
    "flot_me_et = np.load('/mnt/berger2/equipes/IGE/meom/workdir/berger2/git/meom_test/Lorenz_cycle/tableaux_termes_abs/etapes_flot_moyen_abs.npz')\n",
    "#b_me= integral_z(flot_me_et['b_me'], dh_b, Delta, Ht_b)\n",
    "b_me= flot_me_et['b_me']\n",
    "p_me = flot_me_et['p_me']\n",
    "\n",
    "\n",
    "flot_me_et_rel = np.load('/mnt/berger2/equipes/IGE/meom/workdir/berger2/git/meom_test/Lorenz_cycle/tableaux_termes_rel/etapes_flot_moyen_rel.npz')\n",
    "p_me_rel = flot_me_et_rel['p_me']\n",
    "b_me_rel = flot_me_et_rel['b_me']"
   ]
  },
  {
   "cell_type": "code",
   "execution_count": 7,
   "metadata": {},
   "outputs": [],
   "source": [
    "#get xp, yp : basin size\n",
    "f1 = netcdf.netcdf_file(dir0 + file0,'r')\n",
    "\n",
    "xp = f1.variables['xp'][:-1].copy()\n",
    "yp = f1.variables['xp'][:-1].copy()\n",
    "zp = f1.variables['z'][:].copy()"
   ]
  },
  {
   "cell_type": "code",
   "execution_count": 8,
   "metadata": {},
   "outputs": [],
   "source": [
    "N2,f0 = qg.reshape3d(dh,N2,f0)\n",
    "\n",
    "si_t = f1.variables['time'][:].copy().size\n",
    "\n",
    "p = qg.read_qgcm(pfile, 0, var='p', rescale = 1/f0, interp = True, subtract_bc = False )\n",
    "nl,N,naux = p.shape\n",
    "\n",
    "p_at = qg.read_qgcm(at_file, 0, var='p', rescale = 1/f0, interp = True, subtract_bc = False )\n",
    "nl_at,N_at,naux_at = p_at.shape\n",
    "\n",
    "test = si_t\n",
    "\n",
    "average = True"
   ]
  },
  {
   "cell_type": "code",
   "execution_count": 29,
   "metadata": {},
   "outputs": [
    {
     "name": "stdout",
     "output_type": "stream",
     "text": [
      "(512, 2)\n"
     ]
    }
   ],
   "source": [
    "zeta_abs = np.ones((512,2))\n",
    "\n",
    "print(zeta_abs.shape)"
   ]
  },
  {
   "cell_type": "code",
   "execution_count": 30,
   "metadata": {},
   "outputs": [],
   "source": [
    "#isopycnes en x env 1000\n",
    "\n",
    "z= np.array([0,2.9])\n",
    "\n",
    "zeta_abs_y = np.ones((512,2))\n",
    "zeta_abs_y[:,0] = - b_me[0,100,:]*(1/N_12)\n",
    "zeta_abs_y[:,1] = - b_me[1,100,:]*(1/N_23)\n",
    "\n",
    "rho_y_abs = dh_b*np.ones((512,2)) + zeta_abs_y\n"
   ]
  },
  {
   "cell_type": "code",
   "execution_count": 61,
   "metadata": {},
   "outputs": [],
   "source": [
    "z= np.array([0,2.9])\n",
    "\n",
    "zeta_rel_y = np.ones((512,2))\n",
    "zeta_rel_y[:,0] = - b_me_rel[0,100,:]*(1/N_12)\n",
    "zeta_rel_y[:,1] = - b_me_rel[1,100,:]*(1/N_23)\n",
    "\n",
    "rho_y_rel = dh_b*np.ones((512,2)) + zeta_rel_y"
   ]
  },
  {
   "cell_type": "code",
   "execution_count": 62,
   "metadata": {},
   "outputs": [
    {
     "data": {
      "text/plain": [
       "Text(0, 0.5, 'z ')"
      ]
     },
     "execution_count": 62,
     "metadata": {},
     "output_type": "execute_result"
    },
    {
     "data": {
      "image/png": "[encoded data removed]",
      "text/plain": [
       "<Figure size 576x432 with 1 Axes>"
      ]
     },
     "metadata": {
      "needs_background": "light"
     },
     "output_type": "display_data"
    }
   ],
   "source": [
    "fig, ax1 = plt.subplots(1, 1, figsize = (8,6),tight_layout=True)\n",
    "\n",
    "ax1.plot(xp, -rho_y_abs[:,0], 'b')\n",
    "ax1.plot(xp, -rho_y_abs[:,1], 'b')\n",
    "ax1.plot(xp, -rho_y_rel[:,0], 'r')\n",
    "ax1.plot(xp, -rho_y_rel[:,1], 'r')\n",
    "ax1.plot(xp, -dh_b*np.ones((512,2)), 'k')\n",
    "#ax1.plot(xp, rho_y, levels = 1, colors = 'red')\n",
    "#ax1.contour(xp , -zp, rho_y_nord, levels = 1, colors = 'blue')\n",
    "#ax1.set_aspect('equal')\n",
    "ax1.set_ylim(-2900,0)\n",
    "ax1.set_title('coupe zono-vertical des isopycnes (y=1000km)')\n",
    "ax1.set_xlabel('x (km)')\n",
    "ax1.set_ylabel('z ')\n"
   ]
  },
  {
   "cell_type": "code",
   "execution_count": 48,
   "metadata": {},
   "outputs": [],
   "source": [
    "zeta_abs_x = np.ones((512,2))\n",
    "zeta_abs_x[:,0] = - b_me[0,:,100]*(1/N_12)\n",
    "zeta_abs_x[:,1] = - b_me[1,:,100]*(1/N_23)\n",
    "\n",
    "\n",
    "\n",
    "rho_x_abs = dh_b*np.ones((512,2)) + zeta_abs_x"
   ]
  },
  {
   "cell_type": "code",
   "execution_count": 57,
   "metadata": {},
   "outputs": [],
   "source": [
    "zeta_rel_x = np.ones((512,2))\n",
    "zeta_rel_x[:,0] = - b_me_rel[0,:,100]*(1/N_12)\n",
    "zeta_rel_x[:,1] = - b_me_rel[1,:,100]*(1/N_23)\n",
    "\n",
    "\n",
    "rho_x_rel = dh_b*np.ones((512,2)) + zeta_rel_x"
   ]
  },
  {
   "cell_type": "code",
   "execution_count": 58,
   "metadata": {},
   "outputs": [
    {
     "data": {
      "text/plain": [
       "Text(0, 0.5, 'z ')"
      ]
     },
     "execution_count": 58,
     "metadata": {},
     "output_type": "execute_result"
    },
    {
     "data": {
      "image/png": "[encoded data removed]",
      "text/plain": [
       "<Figure size 576x432 with 1 Axes>"
      ]
     },
     "metadata": {
      "needs_background": "light"
     },
     "output_type": "display_data"
    }
   ],
   "source": [
    "fig, ax1 = plt.subplots(1, 1, figsize = (8,6),tight_layout=True)\n",
    "\n",
    "ax1.plot(xp, -rho_x_abs[:,0], 'b')\n",
    "ax1.plot(xp, -rho_x_abs[:,1], 'b')\n",
    "ax1.plot(xp, -rho_x_rel[:,0], 'r')\n",
    "ax1.plot(xp, -rho_x_rel[:,1], 'r')\n",
    "ax1.plot(xp, -dh_b*np.ones((512,2)), 'k')\n",
    "#ax1.plot(xp, rho_y, levels = 1, colors = 'red')\n",
    "#ax1.contour(xp , -zp, rho_y_nord, levels = 1, colors = 'blue')\n",
    "#ax1.set_aspect('equal')\n",
    "ax1.set_ylim(-2900,0)\n",
    "ax1.set_title('coupe zono-vertical des isopycnes (y=1000km)')\n",
    "ax1.set_xlabel('x (km)')\n",
    "ax1.set_ylabel('z ')\n"
   ]
  }
 ],
 "metadata": {
  "kernelspec": {
   "display_name": "Python 3",
   "language": "python",
   "name": "python3"
  },
  "language_info": {
   "codemirror_mode": {
    "name": "ipython",
    "version": 3
   },
   "file_extension": ".py",
   "mimetype": "text/x-python",
   "name": "python",
   "nbconvert_exporter": "python",
   "pygments_lexer": "ipython3",
   "version": "3.8.5"
  }
 },
 "nbformat": 4,
 "nbformat_minor": 4
}
