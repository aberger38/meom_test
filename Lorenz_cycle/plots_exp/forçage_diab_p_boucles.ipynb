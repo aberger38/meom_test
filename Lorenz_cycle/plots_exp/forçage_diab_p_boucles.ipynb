{
 "cells": [
  {
   "cell_type": "code",
   "execution_count": 8,
   "metadata": {},
   "outputs": [],
   "source": [
    "%run '/mnt/berger2/equipes/IGE/meom/workdir/berger2/fonctions/meom_fonctions/fonctions.ipynb'\n",
    "\n",
    "import numpy as np\n",
    "import matplotlib.pyplot as plt\n",
    "import scipy.io.netcdf as netcdf\n",
    "import qgutils as qg\n",
    "from matplotlib import ticker, cm\n",
    "plt.ion()"
   ]
  },
  {
   "cell_type": "code",
   "execution_count": 9,
   "metadata": {},
   "outputs": [],
   "source": [
    "#paramètres gravés dans le marbre pour le stage\n",
    "\n",
    "Delta = 10000                               #grid spacing\n",
    "f0 = 9.37456E-05                           #paramètre de Coriolis\n",
    "dh = np.array([350,750,2900])              #hauteurs des couches océaniques\n",
    "dh_b = np.array([(dh[0]+dh[1])/2,(dh[0]+dh[1])/2])\n",
    "g_prime = np.array([2.5E-02,1.25E-02])     #gravités réduites aux interfaces\n",
    "Beta = 1.75360E-11\n",
    "delta_ek = 5                               #ocean bottom Ekman thickness \n",
    "nu4 = 2E09                                 #bi-harmonic viscosity\n",
    "Ht = np.sum(dh)\n",
    "Ht_b = np.sum(dh_b)\n",
    "toc = np.array([1.31693E+01,1.81693E+01,2.41693E+01])\n",
    "bf = delta_ek*f0/(2*dh[-1])\n",
    "\n",
    "#fréquences Brunt-vaisala\n",
    "\n",
    "N_12 = g_prime[0]/((dh[0]+dh[1])/2)\n",
    "N_23 = g_prime[1]/((dh[1]+dh[2])/2)\n",
    "N2 = np.array([N_12,N_23])\n",
    "\n",
    "#densité\n",
    "\n",
    "rho1= 1000\n",
    "rho2= 1000*(1-g_prime[0]/9.81)\n",
    "rho3= rho2 - 1000*g_prime[1]/9.81\n",
    "\n",
    "rho = np.array([rho1,rho2,rho3])"
   ]
  },
  {
   "cell_type": "code",
   "execution_count": 10,
   "metadata": {},
   "outputs": [],
   "source": [
    "dir0  = '/mnt/berger2/equipes/IGE/meom/workdir/berger2/qgcm-data/double_gyre_coupled/outdata_6/'\n",
    "dir1 = '/mnt/berger2/equipes/IGE/meom/workdir/berger2/qgcm-data/double_gyre_coupled/outdata_9tdiff/'\n",
    "file0 = 'ocpo.nc'\n",
    "file1 = 'ocsst.nc'\n",
    "file_at = 'atpa.nc'"
   ]
  },
  {
   "cell_type": "code",
   "execution_count": 11,
   "metadata": {},
   "outputs": [],
   "source": [
    "#get fields psi\n",
    "pfile_abs = dir0 + file0\n",
    "pfile_rel = dir1 + file0\n",
    "\n",
    "at_file = dir1 + file_at\n",
    "#wind forcing\n",
    "forcing_z = dir0 + file1\n",
    "\n",
    "#buyoancy forcing\n",
    "forcing_b_abs = dir0 + file1\n",
    "forcing_b_rel = dir1 + file1\n",
    "\n",
    "f1 = netcdf.netcdf_file(dir0 + file0,'r')\n",
    "f2 = netcdf.netcdf_file(dir0 + file1,'r')\n"
   ]
  },
  {
   "cell_type": "code",
   "execution_count": 16,
   "metadata": {},
   "outputs": [],
   "source": [
    "flot_me_et = np.load('/mnt/berger2/equipes/IGE/meom/workdir/berger2/git/meom_test/Lorenz_cycle/tableaux_termes_abs/etapes_flot_moyen_abs.npz')\n",
    "#b_me= integral_z(flot_me_et['b_me'], dh_b, Delta, Ht_b)\n",
    "b_me_abs= flot_me_et['b_me']\n",
    "p_me_abs = flot_me_et['p_me']\n",
    "\n",
    "flot_me_abs = np.load('/mnt/berger2/equipes/IGE/meom/workdir/berger2/git/meom_test/Lorenz_cycle/tableaux_termes_abs/termes_flot_moyen_abs.npz')\n",
    "e_diab_abs = flot_me_abs['e_diab']\n",
    "\n",
    "\n",
    "flot_me_et_rel = np.load('/mnt/berger2/equipes/IGE/meom/workdir/berger2/git/meom_test/Lorenz_cycle/tableaux_termes_rel/etapes_flot_moyen_rel.npz')\n",
    "p_me_rel = flot_me_et_rel['p_me']\n",
    "b_me_rel = flot_me_et_rel['b_me']\n",
    "\n",
    "flot_me_rel = np.load('/mnt/berger2/equipes/IGE/meom/workdir/berger2/git/meom_test/Lorenz_cycle/tableaux_termes_rel/termes_flot_moyen_rel.npz')\n",
    "u_me_rel = flot_me_rel['u_me']\n",
    "\n",
    "diab = np.load('/mnt/berger2/equipes/IGE/meom/workdir/berger2/git/meom_test/Lorenz_cycle/plots_exp/tableaux/termes_for_th.npz')\n",
    "sst_me_abs = diab['sst_me_abs']\n",
    "w_ek_me_abs = diab['w_ek_me_abs']\n",
    "sst_me_rel= diab['sst_me_rel']\n",
    "w_ek_me_rel= diab['w_ek_me_rel']\n",
    "test_abs_sec = diab['test_abs_sec']\n",
    "test_rel_sec = diab['test_rel_sec']\n",
    "test_abs_prim = diab['test_abs_prim']\n",
    "test_rel_prim = diab['test_rel_prim']\n",
    "cov_abs_i = diab['cov_abs_i']\n",
    "cov_rel_i = diab['cov_rel_i']\n",
    "diab_solo_me_abs = diab['diab_solo_me_abs']\n",
    "diab_solo_me_rel = diab['diab_solo_me_rel']   "
   ]
  },
  {
   "cell_type": "code",
   "execution_count": 13,
   "metadata": {},
   "outputs": [],
   "source": [
    "#get xp, yp : basin size\n",
    "f1 = netcdf.netcdf_file(dir0 + file0,'r')\n",
    "\n",
    "xp = f1.variables['xp'][:-1].copy()\n",
    "yp = f1.variables['xp'][:-1].copy()\n",
    "zp = f1.variables['z'][:].copy()"
   ]
  },
  {
   "cell_type": "code",
   "execution_count": 14,
   "metadata": {},
   "outputs": [],
   "source": [
    "N2,f0 = qg.reshape3d(dh,N2,f0)\n",
    "\n",
    "si_t = f1.variables['time'][:].copy().size\n",
    "\n",
    "p = qg.read_qgcm(pfile_abs, 0, var='p', rescale = 1/f0, interp = True, subtract_bc = False )\n",
    "nl,N,naux = p.shape\n",
    "\n",
    "p_at = qg.read_qgcm(at_file, 0, var='p', rescale = 1/f0, interp = True, subtract_bc = False )\n",
    "nl_at,N_at,naux_at = p_at.shape\n",
    "\n",
    "test = si_t\n",
    "\n",
    "average = True"
   ]
  },
  {
   "cell_type": "code",
   "execution_count": 11,
   "metadata": {},
   "outputs": [
    {
     "name": "stdout",
     "output_type": "stream",
     "text": [
      "CPU times: user 20.9 s, sys: 3.08 s, total: 23.9 s\n",
      "Wall time: 11min 59s\n"
     ]
    }
   ],
   "source": [
    "%%time\n",
    "\n",
    "#moyenne des termes non constants\n",
    "\n",
    "sst_me_abs = np.zeros((N,N))\n",
    "w_ek_me_abs = np.zeros((N,N))\n",
    "sst_me_rel = np.zeros((N,N))\n",
    "w_ek_me_rel = np.zeros((N,N))\n",
    "\n",
    "n_me = 1\n",
    "\n",
    "for it in range(0,test):\n",
    "    sst_abs = qg.read_qgcm(forcing_b_abs, it, 'sst',rescale = 1, interp=False)\n",
    "    w_ek_abs = qg.read_qgcm(forcing_b_abs, it, 'wekt',rescale = 1, interp=False)\n",
    "    sst_me_abs += (sst_abs-sst_me_abs)/n_me\n",
    "    w_ek_me_abs += (w_ek_abs-w_ek_me_abs)/n_me\n",
    "    \n",
    "    sst_rel = qg.read_qgcm(forcing_b_rel, it, 'sst',rescale = 1, interp=False)\n",
    "    w_ek_rel = qg.read_qgcm(forcing_b_rel, it, 'wekt',rescale = 1, interp=False)\n",
    "    sst_me_rel += (sst_rel-sst_me_rel)/n_me\n",
    "    w_ek_me_rel += (w_ek_rel-w_ek_me_rel)/n_me\n",
    "    \n",
    "    n_me +=1\n"
   ]
  },
  {
   "cell_type": "code",
   "execution_count": 18,
   "metadata": {
    "scrolled": true
   },
   "outputs": [
    {
     "name": "stdout",
     "output_type": "stream",
     "text": [
      "CPU times: user 15.3 s, sys: 1.48 s, total: 16.8 s\n",
      "Wall time: 4min 48s\n"
     ]
    }
   ],
   "source": [
    "%%time\n",
    "\n",
    "#test importance de certains termes dans les calcul\n",
    "\n",
    "diab_solo_me_abs = np.zeros((N,N))\n",
    "diab_solo_me_rel = np.zeros((N,N))\n",
    "\n",
    "\n",
    "n_me = 1\n",
    "\n",
    "for it in range(0,test):\n",
    "    \n",
    "    sst_abs = qg.read_qgcm(forcing_b_abs, it, 'sst',rescale = 1, interp=False)\n",
    "    w_ek_abs = qg.read_qgcm(forcing_b_abs, it, 'wekt',rescale = 1, interp=False)\n",
    "    sst_rel = qg.read_qgcm(forcing_b_rel, it, 'sst',rescale = 1, interp=False)\n",
    "    w_ek_rel = qg.read_qgcm(forcing_b_rel, it, 'wekt',rescale = 1, interp=False)\n",
    "    \n",
    "    diab_solo_me_abs += (w_ek_abs*(sst_abs-toc[0])/(toc[0]-toc[1]) - diab_solo_me_abs)/n_me\n",
    "    diab_solo_me_rel += (w_ek_rel*(sst_rel-toc[0])/(toc[0]-toc[1]) - diab_solo_me_rel)/n_me\n",
    "    \n",
    "    \n",
    "    n_me +=1\n"
   ]
  },
  {
   "cell_type": "code",
   "execution_count": 21,
   "metadata": {},
   "outputs": [
    {
     "name": "stdout",
     "output_type": "stream",
     "text": [
      "CPU times: user 1min 5s, sys: 6.79 s, total: 1min 12s\n",
      "Wall time: 20min 26s\n"
     ]
    }
   ],
   "source": [
    "%%time\n",
    "\n",
    "#test importance de certains termes dans les calcul\n",
    "\n",
    "test_abs_sec = np.zeros((N,N))\n",
    "test_rel_sec = np.zeros((N,N))\n",
    "test_abs_prim = np.zeros((N,N))\n",
    "test_rel_prim = np.zeros((N,N))\n",
    "\n",
    "\n",
    "n_me = 1\n",
    "\n",
    "for it in range(0,test):\n",
    "    p_abs = qg.read_qgcm(pfile_abs, it, var='p', rescale = 1/f0, interp = True, subtract_bc = False)\n",
    "    p_rel = qg.read_qgcm(pfile_rel, it, var='p', rescale = 1/f0, interp = True, subtract_bc = False)\n",
    "    \n",
    "    b_abs = qg.p2b(p_abs, dh, f0)\n",
    "    b_rel = qg.p2b(p_rel, dh, f0)\n",
    "    \n",
    "    b_p_abs = b_abs - b_me_abs\n",
    "    b_p_rel = b_rel - b_me_rel\n",
    "    \n",
    "    sst_abs = qg.read_qgcm(forcing_b_abs, it, 'sst',rescale = 1, interp=False)\n",
    "    w_ek_abs = qg.read_qgcm(forcing_b_abs, it, 'wekt',rescale = 1, interp=False)\n",
    "    sst_rel = qg.read_qgcm(forcing_b_rel, it, 'sst',rescale = 1, interp=False)\n",
    "    w_ek_rel = qg.read_qgcm(forcing_b_rel, it, 'wekt',rescale = 1, interp=False)\n",
    "    \n",
    "    test_abs_sec += (b_p_abs[0]*w_ek_abs*(sst_me_abs-toc[0]) + b_p_abs[0]*(sst_abs - toc[0])*w_ek_me_abs\n",
    "                    -test_abs_sec)/n_me\n",
    "    test_rel_sec += (b_p_rel[0]*w_ek_rel*(sst_me_rel-toc[0]) + b_p_rel[0]*(sst_rel - toc[0])*w_ek_me_rel\n",
    "                    -test_rel_sec)/n_me\n",
    "    \n",
    "    test_abs_prim += (b_p_abs[0]*w_ek_abs*(sst_abs-toc[0]) - test_abs_prim)/n_me\n",
    "    test_rel_prim += (b_p_rel[0]*w_ek_rel*(sst_rel-toc[0]) - test_rel_prim)/n_me\n",
    "    \n",
    "    \n",
    "    n_me +=1\n"
   ]
  },
  {
   "cell_type": "code",
   "execution_count": 35,
   "metadata": {},
   "outputs": [],
   "source": [
    "np.savez('/mnt/berger2/equipes/IGE/meom/workdir/berger2/git/meom_test/Lorenz_cycle/plots_exp/tableaux/termes_for_th.npz',\n",
    "         sst_me_abs=sst_me_abs,\n",
    "         w_ek_me_abs =w_ek_me_abs,\n",
    "         sst_me_rel=sst_me_rel,\n",
    "         w_ek_me_rel=w_ek_me_rel,\n",
    "         test_abs_sec = test_abs_sec,\n",
    "         test_rel_sec = test_rel_sec,\n",
    "         test_abs_prim = test_abs_prim,\n",
    "         test_rel_prim = test_rel_prim,\n",
    "         cov_abs_i = cov_abs_i,\n",
    "         cov_rel_i = cov_rel_i)\n"
   ]
  },
  {
   "cell_type": "code",
   "execution_count": 19,
   "metadata": {},
   "outputs": [],
   "source": [
    "np.savez('/mnt/berger2/equipes/IGE/meom/workdir/berger2/git/meom_test/Lorenz_cycle/plots_exp/tableaux/termes_for_th2.npz',\n",
    "         diab_solo_me_abs = diab_solo_me_abs,\n",
    "         diab_solo_me_rel = diab_solo_me_rel)"
   ]
  }
 ],
 "metadata": {
  "kernelspec": {
   "display_name": "Python 3",
   "language": "python",
   "name": "python3"
  },
  "language_info": {
   "codemirror_mode": {
    "name": "ipython",
    "version": 3
   },
   "file_extension": ".py",
   "mimetype": "text/x-python",
   "name": "python",
   "nbconvert_exporter": "python",
   "pygments_lexer": "ipython3",
   "version": "3.8.5"
  }
 },
 "nbformat": 4,
 "nbformat_minor": 4
}
